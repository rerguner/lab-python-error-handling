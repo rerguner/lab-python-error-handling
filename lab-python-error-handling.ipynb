{
 "cells": [
  {
   "cell_type": "markdown",
   "id": "25d7736c-ba17-4aff-b6bb-66eba20fbf4e",
   "metadata": {},
   "source": [
    "# Lab | Error Handling"
   ]
  },
  {
   "cell_type": "markdown",
   "id": "bc99b386-7508-47a0-bcdb-d969deaf6c8b",
   "metadata": {},
   "source": [
    "## Exercise: Error Handling for Managing Customer Orders\n",
    "\n",
    "The implementation of your code for managing customer orders assumes that the user will always enter a valid input. \n",
    "\n",
    "For example, we could modify the `initialize_inventory` function to include error handling.\n",
    "   - If the user enters an invalid quantity (e.g., a negative value or a non-numeric value), display an error message and ask them to re-enter the quantity for that product.\n",
    "   - Use a try-except block to handle the error and continue prompting the user until a valid quantity is entered.\n",
    "\n",
    "```python\n",
    "# Step 1: Define the function for initializing the inventory with error handling\n",
    "def initialize_inventory(products):\n",
    "    inventory = {}\n",
    "    for product in products:\n",
    "        valid_quantity = False\n",
    "        while not valid_quantity:\n",
    "            try:\n",
    "                quantity = int(input(f\"Enter the quantity of {product}s available: \"))\n",
    "                if quantity < 0:\n",
    "                    raise ValueError(\"Invalid quantity! Please enter a non-negative value.\")\n",
    "                valid_quantity = True\n",
    "            except ValueError as error:\n",
    "                print(f\"Error: {error}\")\n",
    "        inventory[product] = quantity\n",
    "    return inventory\n",
    "\n",
    "# Or, in another way:\n",
    "\n",
    "def initialize_inventory(products):\n",
    "    inventory = {}\n",
    "    for product in products:\n",
    "        valid_input = False\n",
    "        while not valid_input:\n",
    "            try:\n",
    "                quantity = int(input(f\"Enter the quantity of {product}s available: \"))\n",
    "                if quantity >= 0:\n",
    "                    inventory[product] = quantity\n",
    "                    valid_input = True\n",
    "                else:\n",
    "                    print(\"Quantity cannot be negative. Please enter a valid quantity.\")\n",
    "            except ValueError:\n",
    "                print(\"Invalid input. Please enter a valid quantity.\")\n",
    "    return inventory\n",
    "```\n",
    "\n",
    "Let's enhance your code by implementing error handling to handle invalid inputs.\n",
    "\n",
    "Follow the steps below to complete the exercise:\n",
    "\n",
    "2. Modify the `calculate_total_price` function to include error handling.\n",
    "   - If the user enters an invalid price (e.g., a negative value or a non-numeric value), display an error message and ask them to re-enter the price for that product.\n",
    "   - Use a try-except block to handle the error and continue prompting the user until a valid price is entered.\n",
    "\n",
    "3. Modify the `get_customer_orders` function to include error handling.\n",
    "   - If the user enters an invalid number of orders (e.g., a negative value or a non-numeric value), display an error message and ask them to re-enter the number of orders.\n",
    "   - If the user enters an invalid product name (e.g., a product name that is not in the inventory), or that doesn't have stock available, display an error message and ask them to re-enter the product name. *Hint: you will need to pass inventory as a parameter*\n",
    "   - Use a try-except block to handle the error and continue prompting the user until a valid product name is entered.\n",
    "\n",
    "4. Test your code by running the program and deliberately entering invalid quantities and product names. Make sure the error handling mechanism works as expected.\n"
   ]
  },
  {
   "cell_type": "code",
   "execution_count": 10,
   "id": "f6887070",
   "metadata": {},
   "outputs": [
    {
     "name": "stdout",
     "output_type": "stream",
     "text": [
      "Error: Invalid quantity! Please enter a non-negative value.\n",
      "Error: Invalid quantity! Please enter a non-negative value.\n",
      "Error: invalid literal for int() with base 10: 'f'\n",
      "Error: invalid literal for int() with base 10: 'f'\n",
      "Error: invalid literal for int() with base 10: 'f'\n"
     ]
    },
    {
     "data": {
      "text/plain": [
       "{'mug': 1, 'book': 1, 'tshirt': 1, 'pen': 1, 'umbrella': 1}"
      ]
     },
     "execution_count": 10,
     "metadata": {},
     "output_type": "execute_result"
    }
   ],
   "source": [
    "\"\"\"For example, we could modify the `initialize_inventory` function to include error handling.\n",
    "   - If the user enters an invalid quantity (e.g., a negative value or a non-numeric value), display an error message and ask them to re-enter the quantity for that product.\n",
    "   - Use a try-except block to handle the error and continue prompting the user until a valid quantity is entered\"\"\"\n",
    "\n",
    "products = ['mug', 'book', 'tshirt', 'pen', 'umbrella']\n",
    "\n",
    "# Step 1: Define the function for initializing the inventory with error handling\n",
    "def initialize_inventory(products):\n",
    "    inventory = {}\n",
    "    for product in products:\n",
    "        valid_quantity = False\n",
    "        while not valid_quantity:\n",
    "            try:\n",
    "                quantity = int(input(f\"Enter the quantity of {product}s available: \"))\n",
    "                if quantity < 0:\n",
    "                    raise ValueError(\"Invalid quantity! Please enter a non-negative value.\")\n",
    "                valid_quantity = True\n",
    "            except ValueError as error:\n",
    "                print(f\"Error: {error}\")\n",
    "        inventory[product] = quantity\n",
    "    return inventory\n",
    "\n",
    "# Or, in another way:\n",
    "\"\"\"\n",
    "def initialize_inventory(products):\n",
    "    inventory = {}\n",
    "    for product in products:\n",
    "        valid_input = False\n",
    "        while not valid_input:\n",
    "            try:\n",
    "                quantity = int(input(f\"Enter the quantity of {product}s available: \"))\n",
    "                if quantity >= 0:\n",
    "                    inventory[product] = quantity\n",
    "                    valid_input = True\n",
    "                else:\n",
    "                    print(\"Quantity cannot be negative. Please enter a valid quantity.\")\n",
    "            except ValueError:\n",
    "                print(\"Invalid input. Please enter a valid quantity.\")\n",
    "    return inventory\n",
    "\"\"\"\n",
    "\n",
    "initialize_inventory(products)"
   ]
  },
  {
   "cell_type": "code",
   "execution_count": null,
   "id": "c81f74b3",
   "metadata": {},
   "outputs": [
    {
     "name": "stdout",
     "output_type": "stream",
     "text": [
      "Error: Invalid Entry\n",
      "Error: Invalid Entry\n",
      "Error: invalid literal for int() with base 10: 'g'\n",
      "Error: invalid literal for int() with base 10: 'g'\n"
     ]
    },
    {
     "data": {
      "text/plain": [
       "(15, {'mug': 15})"
      ]
     },
     "execution_count": 25,
     "metadata": {},
     "output_type": "execute_result"
    }
   ],
   "source": [
    "\"\"\"Modify the `calculate_total_price` function to include error handling.\n",
    "   - If the user enters an invalid price (e.g., a negative value or a non-numeric value),\n",
    "   display an error message and ask them to re-enter the price for that product.\n",
    "   - Use a try-except block to handle the error and continue prompting the user until a valid price is entered.\"\"\"\n",
    "\n",
    "\n",
    "def calculate_order_price(get_customer_orders):\n",
    "    number_of_orders, customer_orders = get_customer_orders\n",
    "    product_price = {}\n",
    "    price_flag = False\n",
    "    while not price_flag:\n",
    "        try:\n",
    "            for product in customer_orders:\n",
    "               price = int(input(f\"Enter the price of {product.upper()}: \"))\n",
    "               if price < 0:\n",
    "                   raise ValueError(\"Invalid Entry\")\n",
    "               price_flag = True\n",
    "            else:\n",
    "                product_price[product] = price\n",
    "        except ValueError as error:\n",
    "               print(f\"Error: {error}\")\n",
    "    total_price = sum([price for price in product_price.values()])\n",
    "    return total_price, product_price           \n"
   ]
  },
  {
   "cell_type": "code",
   "execution_count": null,
   "id": "e211cf26",
   "metadata": {},
   "outputs": [],
   "source": [
    "\"\"\"Modify the `get_customer_orders` function to include error handling.\n",
    "   - If the user enters an invalid number of orders (e.g., a negative value or a non-numeric value), \n",
    "   display an error message and ask them to re-enter the number of orders.\n",
    "   - If the user enters an invalid product name (e.g., a product name that is not in the inventory), \n",
    "   or that doesn't have stock available, display an error message and ask them to re-enter the product name. \n",
    "   *Hint: you will need to pass inventory as a parameter*\n",
    "   - Use a try-except block to handle the error and continue prompting the user until a valid product name is entered.\"\"\"\n",
    "\n",
    "def get_customer_orders(inventory):\n",
    "    customer_orders = set()\n",
    "    number_flag = False\n",
    "    order_flag = False\n",
    "    while not number_flag:\n",
    "        try:\n",
    "           number_of_orders = int(input(\"Enter the Number of Customer Orders: \"))\n",
    "           if int(number_of_orders) <= 0:\n",
    "               raise ValueError(\"Invalid Entry\")\n",
    "           number_flag = True                                       \n",
    "        except ValueError as error:\n",
    "            print(f\"Error: {error}\")\n",
    "    while not order_flag:\n",
    "        try:\n",
    "            for i in range(number_of_orders):\n",
    "                customer_product = input(\"Enter the name of the product that customer wants to order: \")\n",
    "                if customer_product not in inventory.keys():\n",
    "                    raise ValueError(\"Not found in inventroy\")\n",
    "                order_flag = True\n",
    "            else:\n",
    "                customer_orders.add(customer_product)\n",
    "        except ValueError as error:\n",
    "            print(f\"Error: {error}\")    \n",
    "\n",
    "    return number_of_orders, customer_orders\n"
   ]
  }
 ],
 "metadata": {
  "kernelspec": {
   "display_name": "base",
   "language": "python",
   "name": "python3"
  },
  "language_info": {
   "codemirror_mode": {
    "name": "ipython",
    "version": 3
   },
   "file_extension": ".py",
   "mimetype": "text/x-python",
   "name": "python",
   "nbconvert_exporter": "python",
   "pygments_lexer": "ipython3",
   "version": "3.12.7"
  }
 },
 "nbformat": 4,
 "nbformat_minor": 5
}
